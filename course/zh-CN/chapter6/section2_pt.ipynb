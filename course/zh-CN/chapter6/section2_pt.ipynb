{
 "cells": [
  {
   "cell_type": "code",
   "id": "initial_id",
   "metadata": {
    "collapsed": true,
    "ExecuteTime": {
     "end_time": "2025-04-09T08:54:40.627418Z",
     "start_time": "2025-04-09T08:54:39.052533Z"
    }
   },
   "source": [
    "from datasets import load_dataset\n",
    "\n",
    "data_files = {\n",
    "    \"train\": \"/data/wzq/cache/huggingface/hub/datasets--code-search-net--code_search_net/snapshots/fdc6a9e39575768c27eb8a2a5f702bf846eb4759/data/python/final/jsonl/train/*\",\n",
    "    \"test\": \"/data/wzq/cache/huggingface/hub/datasets--code-search-net--code_search_net/snapshots/fdc6a9e39575768c27eb8a2a5f702bf846eb4759/data/python/final/jsonl/test/*\",\n",
    "    \"valid\": \"/data/wzq/cache/huggingface/hub/datasets--code-search-net--code_search_net/snapshots/fdc6a9e39575768c27eb8a2a5f702bf846eb4759/data/python/final/jsonl/valid/*\"}\n",
    "\n",
    "raw_datasets = load_dataset(\"json\", data_files=data_files)"
   ],
   "outputs": [],
   "execution_count": 1
  },
  {
   "metadata": {
    "ExecuteTime": {
     "end_time": "2025-04-09T08:54:40.762597Z",
     "start_time": "2025-04-09T08:54:40.758695Z"
    }
   },
   "cell_type": "code",
   "source": "raw_datasets[\"train\"]",
   "id": "253e0d0cb889cab6",
   "outputs": [
    {
     "data": {
      "text/plain": [
       "Dataset({\n",
       "    features: ['repo', 'path', 'func_name', 'original_string', 'language', 'code', 'code_tokens', 'docstring', 'docstring_tokens', 'sha', 'url', 'partition'],\n",
       "    num_rows: 412178\n",
       "})"
      ]
     },
     "execution_count": 2,
     "metadata": {},
     "output_type": "execute_result"
    }
   ],
   "execution_count": 2
  },
  {
   "metadata": {
    "ExecuteTime": {
     "end_time": "2025-04-09T08:54:40.857552Z",
     "start_time": "2025-04-09T08:54:40.854753Z"
    }
   },
   "cell_type": "code",
   "source": "raw_datasets[\"train\"][123456][\"original_string\"] == raw_datasets[\"train\"][123456][\"code\"]",
   "id": "5702ead20f68f8eb",
   "outputs": [
    {
     "data": {
      "text/plain": [
       "True"
      ]
     },
     "execution_count": 3,
     "metadata": {},
     "output_type": "execute_result"
    }
   ],
   "execution_count": 3
  },
  {
   "metadata": {
    "ExecuteTime": {
     "end_time": "2025-04-09T08:54:40.944395Z",
     "start_time": "2025-04-09T08:54:40.942294Z"
    }
   },
   "cell_type": "code",
   "source": "raw_datasets[\"valid\"]",
   "id": "8f4e81845a2553c5",
   "outputs": [
    {
     "data": {
      "text/plain": [
       "Dataset({\n",
       "    features: ['repo', 'path', 'func_name', 'original_string', 'language', 'code', 'code_tokens', 'docstring', 'docstring_tokens', 'sha', 'url', 'partition'],\n",
       "    num_rows: 23107\n",
       "})"
      ]
     },
     "execution_count": 4,
     "metadata": {},
     "output_type": "execute_result"
    }
   ],
   "execution_count": 4
  },
  {
   "metadata": {
    "ExecuteTime": {
     "end_time": "2025-04-09T08:55:23.702096Z",
     "start_time": "2025-04-09T08:54:44.287525Z"
    }
   },
   "cell_type": "code",
   "source": "raw_datasets.filter(lambda x: x[\"original_string\"] != x[\"code\"])",
   "id": "738d0f536c40ad6f",
   "outputs": [
    {
     "data": {
      "text/plain": [
       "Filter:   0%|          | 0/412178 [00:00<?, ? examples/s]"
      ],
      "application/vnd.jupyter.widget-view+json": {
       "version_major": 2,
       "version_minor": 0,
       "model_id": "1594b901357e46e68357cc0b7076d8aa"
      }
     },
     "metadata": {},
     "output_type": "display_data"
    },
    {
     "data": {
      "text/plain": [
       "Filter:   0%|          | 0/22176 [00:00<?, ? examples/s]"
      ],
      "application/vnd.jupyter.widget-view+json": {
       "version_major": 2,
       "version_minor": 0,
       "model_id": "1b636eb93cd447b5b0e688c0a766ef3b"
      }
     },
     "metadata": {},
     "output_type": "display_data"
    },
    {
     "data": {
      "text/plain": [
       "Filter:   0%|          | 0/23107 [00:00<?, ? examples/s]"
      ],
      "application/vnd.jupyter.widget-view+json": {
       "version_major": 2,
       "version_minor": 0,
       "model_id": "d6755c2874b040919a97e9a8b9adac0f"
      }
     },
     "metadata": {},
     "output_type": "display_data"
    },
    {
     "data": {
      "text/plain": [
       "DatasetDict({\n",
       "    train: Dataset({\n",
       "        features: ['repo', 'path', 'func_name', 'original_string', 'language', 'code', 'code_tokens', 'docstring', 'docstring_tokens', 'sha', 'url', 'partition'],\n",
       "        num_rows: 0\n",
       "    })\n",
       "    test: Dataset({\n",
       "        features: ['repo', 'path', 'func_name', 'original_string', 'language', 'code', 'code_tokens', 'docstring', 'docstring_tokens', 'sha', 'url', 'partition'],\n",
       "        num_rows: 0\n",
       "    })\n",
       "    valid: Dataset({\n",
       "        features: ['repo', 'path', 'func_name', 'original_string', 'language', 'code', 'code_tokens', 'docstring', 'docstring_tokens', 'sha', 'url', 'partition'],\n",
       "        num_rows: 0\n",
       "    })\n",
       "})"
      ]
     },
     "execution_count": 5,
     "metadata": {},
     "output_type": "execute_result"
    }
   ],
   "execution_count": 5
  },
  {
   "metadata": {
    "ExecuteTime": {
     "end_time": "2025-04-09T08:56:26.646817Z",
     "start_time": "2025-04-09T08:56:25.525782Z"
    }
   },
   "cell_type": "code",
   "source": [
    "raw_datasets.filter(\n",
    "    lambda x: [a != b for a, b in zip(x[\"original_string\"], x[\"code\"])],\n",
    "    batched=True\n",
    ")"
   ],
   "id": "96e56543b22c16ae",
   "outputs": [
    {
     "data": {
      "text/plain": [
       "Filter:   0%|          | 0/412178 [00:00<?, ? examples/s]"
      ],
      "application/vnd.jupyter.widget-view+json": {
       "version_major": 2,
       "version_minor": 0,
       "model_id": "68a3442e26a540a49cf8bf9626ccdde5"
      }
     },
     "metadata": {},
     "output_type": "display_data"
    },
    {
     "data": {
      "text/plain": [
       "Filter:   0%|          | 0/22176 [00:00<?, ? examples/s]"
      ],
      "application/vnd.jupyter.widget-view+json": {
       "version_major": 2,
       "version_minor": 0,
       "model_id": "f698ebaa7753472988c6e61e14e6f455"
      }
     },
     "metadata": {},
     "output_type": "display_data"
    },
    {
     "data": {
      "text/plain": [
       "Filter:   0%|          | 0/23107 [00:00<?, ? examples/s]"
      ],
      "application/vnd.jupyter.widget-view+json": {
       "version_major": 2,
       "version_minor": 0,
       "model_id": "4cc736606298447c815e2f78c3f5f75d"
      }
     },
     "metadata": {},
     "output_type": "display_data"
    },
    {
     "data": {
      "text/plain": [
       "DatasetDict({\n",
       "    train: Dataset({\n",
       "        features: ['repo', 'path', 'func_name', 'original_string', 'language', 'code', 'code_tokens', 'docstring', 'docstring_tokens', 'sha', 'url', 'partition'],\n",
       "        num_rows: 0\n",
       "    })\n",
       "    test: Dataset({\n",
       "        features: ['repo', 'path', 'func_name', 'original_string', 'language', 'code', 'code_tokens', 'docstring', 'docstring_tokens', 'sha', 'url', 'partition'],\n",
       "        num_rows: 0\n",
       "    })\n",
       "    valid: Dataset({\n",
       "        features: ['repo', 'path', 'func_name', 'original_string', 'language', 'code', 'code_tokens', 'docstring', 'docstring_tokens', 'sha', 'url', 'partition'],\n",
       "        num_rows: 0\n",
       "    })\n",
       "})"
      ]
     },
     "execution_count": 12,
     "metadata": {},
     "output_type": "execute_result"
    }
   ],
   "execution_count": 12
  },
  {
   "metadata": {
    "ExecuteTime": {
     "end_time": "2025-04-09T08:55:23.784703Z",
     "start_time": "2025-04-09T08:55:23.782307Z"
    }
   },
   "cell_type": "code",
   "source": "print(raw_datasets[\"train\"][123456][\"original_string\"])",
   "id": "817608bb3a850eaa",
   "outputs": [
    {
     "name": "stdout",
     "output_type": "stream",
     "text": [
      "def last_rate_limit(self):\n",
      "        \"\"\"\n",
      "        A `dict` of the rate limit information returned in the most recent\n",
      "        response, or `None` if no requests have been made yet.  The `dict`\n",
      "        consists of all headers whose names begin with ``\"RateLimit\"`` (case\n",
      "        insensitive).\n",
      "\n",
      "        The DigitalOcean API specifies the following rate limit headers:\n",
      "\n",
      "        :var string RateLimit-Limit: the number of requests that can be made\n",
      "            per hour\n",
      "        :var string RateLimit-Remaining: the number of requests remaining until\n",
      "            the limit is reached\n",
      "        :var string RateLimit-Reset: the Unix timestamp for the time when the\n",
      "            oldest request will expire from rate limit consideration\n",
      "        \"\"\"\n",
      "        if self.last_response is None:\n",
      "            return None\n",
      "        else:\n",
      "            return {k:v for k,v in iteritems(self.last_response.headers)\n",
      "                        if k.lower().startswith('ratelimit')}\n"
     ]
    }
   ],
   "execution_count": 6
  },
  {
   "metadata": {
    "ExecuteTime": {
     "end_time": "2025-04-09T08:55:23.992780Z",
     "start_time": "2025-04-09T08:55:23.990763Z"
    }
   },
   "cell_type": "code",
   "source": [
    "training_corpus = (raw_datasets[\"train\"][i:i + 1000][\"original_string\"]\n",
    "                   for i in range(0, len(raw_datasets[\"train\"]), 1000))"
   ],
   "id": "79897e0f85992805",
   "outputs": [],
   "execution_count": 7
  },
  {
   "metadata": {
    "ExecuteTime": {
     "end_time": "2025-04-09T08:55:24.122134Z",
     "start_time": "2025-04-09T08:55:24.120142Z"
    }
   },
   "cell_type": "code",
   "source": [
    "gen = (i for i in range(10))\n",
    "print(list(gen))\n",
    "print(list(gen))"
   ],
   "id": "326f3724afa3465c",
   "outputs": [
    {
     "name": "stdout",
     "output_type": "stream",
     "text": [
      "[0, 1, 2, 3, 4, 5, 6, 7, 8, 9]\n",
      "[]\n"
     ]
    }
   ],
   "execution_count": 8
  },
  {
   "metadata": {
    "ExecuteTime": {
     "end_time": "2025-04-09T08:55:24.219380Z",
     "start_time": "2025-04-09T08:55:24.217445Z"
    }
   },
   "cell_type": "code",
   "source": [
    "# def get_training_corpus():\n",
    "#     return (\n",
    "#         raw_datasets[\"train\"][i:i + 1000][\"original_string\"]\n",
    "#         for i in range(0, len(raw_datasets[\"train\"]), 1000)\n",
    "#     )\n",
    "\n",
    "def get_training_corpus():\n",
    "    dataset = raw_datasets[\"train\"]\n",
    "    for start_idx in range(0, len(data_files), 1000):\n",
    "        samples = dataset[start_idx:start_idx + 1000]\n",
    "        yield samples[\"original_string\"]"
   ],
   "id": "a189f68bc87b195d",
   "outputs": [],
   "execution_count": 9
  },
  {
   "metadata": {
    "ExecuteTime": {
     "end_time": "2025-04-09T08:55:27.382526Z",
     "start_time": "2025-04-09T08:55:24.285241Z"
    }
   },
   "cell_type": "code",
   "source": [
    "from transformers import AutoTokenizer\n",
    "\n",
    "old_tokenizer = AutoTokenizer.from_pretrained(\"gpt2\")"
   ],
   "id": "c58011a0a5c04b8b",
   "outputs": [],
   "execution_count": 10
  },
  {
   "metadata": {
    "ExecuteTime": {
     "end_time": "2025-04-09T08:55:27.456671Z",
     "start_time": "2025-04-09T08:55:27.445440Z"
    }
   },
   "cell_type": "code",
   "source": [
    "example = '''def add_numbers(a, b):\n",
    "    \"\"\"Add the two numbers `a` and `b`.\"\"\"\n",
    "    return a + b'''\n",
    "\n",
    "tokens = old_tokenizer.tokenize(example)\n",
    "tokens"
   ],
   "id": "881ca616a86bcf1a",
   "outputs": [
    {
     "data": {
      "text/plain": [
       "['def',\n",
       " 'Ġadd',\n",
       " '_',\n",
       " 'n',\n",
       " 'umbers',\n",
       " '(',\n",
       " 'a',\n",
       " ',',\n",
       " 'Ġb',\n",
       " '):',\n",
       " 'Ċ',\n",
       " 'Ġ',\n",
       " 'Ġ',\n",
       " 'Ġ',\n",
       " 'Ġ\"\"\"',\n",
       " 'Add',\n",
       " 'Ġthe',\n",
       " 'Ġtwo',\n",
       " 'Ġnumbers',\n",
       " 'Ġ`',\n",
       " 'a',\n",
       " '`',\n",
       " 'Ġand',\n",
       " 'Ġ`',\n",
       " 'b',\n",
       " '`',\n",
       " '.\"',\n",
       " '\"\"',\n",
       " 'Ċ',\n",
       " 'Ġ',\n",
       " 'Ġ',\n",
       " 'Ġ',\n",
       " 'Ġreturn',\n",
       " 'Ġa',\n",
       " 'Ġ+',\n",
       " 'Ġb']"
      ]
     },
     "execution_count": 11,
     "metadata": {},
     "output_type": "execute_result"
    }
   ],
   "execution_count": 11
  },
  {
   "metadata": {
    "ExecuteTime": {
     "end_time": "2025-04-09T08:58:54.980806Z",
     "start_time": "2025-04-09T08:57:49.597815Z"
    }
   },
   "cell_type": "code",
   "source": [
    "%time\n",
    "tokenizer = old_tokenizer.train_new_from_iterator(training_corpus, 52000)"
   ],
   "id": "2d7d7a118c3d6e22",
   "outputs": [
    {
     "name": "stdout",
     "output_type": "stream",
     "text": [
      "\n",
      "\n",
      "\n",
      "CPU times: user 54min 7s, sys: 3min 39s, total: 57min 47s\n",
      "Wall time: 1min 5s\n"
     ]
    }
   ],
   "execution_count": 13
  },
  {
   "metadata": {
    "ExecuteTime": {
     "end_time": "2025-04-09T09:04:37.409071Z",
     "start_time": "2025-04-09T09:04:37.405668Z"
    }
   },
   "cell_type": "code",
   "source": [
    "tokens = tokenizer.tokenize(example)\n",
    "tokens"
   ],
   "id": "4e41a57ae29698d1",
   "outputs": [
    {
     "data": {
      "text/plain": [
       "['def',\n",
       " 'Ġadd',\n",
       " '_',\n",
       " 'numbers',\n",
       " '(',\n",
       " 'a',\n",
       " ',',\n",
       " 'Ġb',\n",
       " '):',\n",
       " 'ĊĠĠĠ',\n",
       " 'Ġ\"\"\"',\n",
       " 'Add',\n",
       " 'Ġthe',\n",
       " 'Ġtwo',\n",
       " 'Ġnumbers',\n",
       " 'Ġ`',\n",
       " 'a',\n",
       " '`',\n",
       " 'Ġand',\n",
       " 'Ġ`',\n",
       " 'b',\n",
       " '`.\"\"\"',\n",
       " 'ĊĠĠĠ',\n",
       " 'Ġreturn',\n",
       " 'Ġa',\n",
       " 'Ġ+',\n",
       " 'Ġb']"
      ]
     },
     "execution_count": 15,
     "metadata": {},
     "output_type": "execute_result"
    }
   ],
   "execution_count": 15
  },
  {
   "metadata": {
    "ExecuteTime": {
     "end_time": "2025-04-09T09:07:39.020497Z",
     "start_time": "2025-04-09T09:07:39.017775Z"
    }
   },
   "cell_type": "code",
   "source": [
    "print(len(tokens))\n",
    "print(len(old_tokenizer.tokenize(example)))"
   ],
   "id": "f6292d835cc4787a",
   "outputs": [
    {
     "name": "stdout",
     "output_type": "stream",
     "text": [
      "27\n",
      "36\n"
     ]
    }
   ],
   "execution_count": 16
  },
  {
   "metadata": {
    "ExecuteTime": {
     "end_time": "2025-04-09T09:10:25.766511Z",
     "start_time": "2025-04-09T09:10:25.762905Z"
    }
   },
   "cell_type": "code",
   "source": [
    "example = \"\"\"class LinearLayer():\n",
    "    def __init__(self, input_size, output_size):\n",
    "        self.weight = torch.randn(input_size, output_size)\n",
    "        self.bias = torch.zeros(output_size)\n",
    "\n",
    "    def __call__(self, x):\n",
    "        return x @ self.weights + self.bias\n",
    "    \"\"\"\n",
    "tokenizer.tokenize(example)"
   ],
   "id": "5aa138be2fe301c3",
   "outputs": [
    {
     "data": {
      "text/plain": [
       "['class',\n",
       " 'ĠLinear',\n",
       " 'Layer',\n",
       " '():',\n",
       " 'ĊĠĠĠ',\n",
       " 'Ġdef',\n",
       " 'Ġ__',\n",
       " 'init',\n",
       " '__(',\n",
       " 'self',\n",
       " ',',\n",
       " 'Ġinput',\n",
       " '_',\n",
       " 'size',\n",
       " ',',\n",
       " 'Ġoutput',\n",
       " '_',\n",
       " 'size',\n",
       " '):',\n",
       " 'ĊĠĠĠĠĠĠĠ',\n",
       " 'Ġself',\n",
       " '.',\n",
       " 'weight',\n",
       " 'Ġ=',\n",
       " 'Ġtorch',\n",
       " '.',\n",
       " 'randn',\n",
       " '(',\n",
       " 'input',\n",
       " '_',\n",
       " 'size',\n",
       " ',',\n",
       " 'Ġoutput',\n",
       " '_',\n",
       " 'size',\n",
       " ')',\n",
       " 'ĊĠĠĠĠĠĠĠ',\n",
       " 'Ġself',\n",
       " '.',\n",
       " 'bias',\n",
       " 'Ġ=',\n",
       " 'Ġtorch',\n",
       " '.',\n",
       " 'zeros',\n",
       " '(',\n",
       " 'output',\n",
       " '_',\n",
       " 'size',\n",
       " ')',\n",
       " 'ĊĊĠĠĠ',\n",
       " 'Ġdef',\n",
       " 'Ġ__',\n",
       " 'call',\n",
       " '__(',\n",
       " 'self',\n",
       " ',',\n",
       " 'Ġx',\n",
       " '):',\n",
       " 'ĊĠĠĠĠĠĠĠ',\n",
       " 'Ġreturn',\n",
       " 'Ġx',\n",
       " 'Ġ@',\n",
       " 'Ġself',\n",
       " '.',\n",
       " 'weights',\n",
       " 'Ġ+',\n",
       " 'Ġself',\n",
       " '.',\n",
       " 'bias',\n",
       " 'ĊĠĠĠĠ']"
      ]
     },
     "execution_count": 17,
     "metadata": {},
     "output_type": "execute_result"
    }
   ],
   "execution_count": 17
  },
  {
   "metadata": {
    "ExecuteTime": {
     "end_time": "2025-04-09T09:25:23.491398Z",
     "start_time": "2025-04-09T09:25:23.437736Z"
    }
   },
   "cell_type": "code",
   "source": "tokenizer.save_pretrained(\"/data/wzq/tmp/hugging-face-nlp-course/course/zh-CN/chapter6/code-search-net-tokenizer\")",
   "id": "4b3ed12bcc7cfc81",
   "outputs": [
    {
     "data": {
      "text/plain": [
       "('/data/wzq/tmp/hugging-face-nlp-course/course/zh-CN/chapter6/code-search-net-tokenizer/tokenizer_config.json',\n",
       " '/data/wzq/tmp/hugging-face-nlp-course/course/zh-CN/chapter6/code-search-net-tokenizer/special_tokens_map.json',\n",
       " '/data/wzq/tmp/hugging-face-nlp-course/course/zh-CN/chapter6/code-search-net-tokenizer/vocab.json',\n",
       " '/data/wzq/tmp/hugging-face-nlp-course/course/zh-CN/chapter6/code-search-net-tokenizer/merges.txt',\n",
       " '/data/wzq/tmp/hugging-face-nlp-course/course/zh-CN/chapter6/code-search-net-tokenizer/added_tokens.json',\n",
       " '/data/wzq/tmp/hugging-face-nlp-course/course/zh-CN/chapter6/code-search-net-tokenizer/tokenizer.json')"
      ]
     },
     "execution_count": 20,
     "metadata": {},
     "output_type": "execute_result"
    }
   ],
   "execution_count": 20
  },
  {
   "metadata": {
    "ExecuteTime": {
     "end_time": "2025-04-09T09:26:57.866726Z",
     "start_time": "2025-04-09T09:26:57.857865Z"
    }
   },
   "cell_type": "code",
   "source": [
    "from huggingface_hub import notebook_login\n",
    "\n",
    "notebook_login()"
   ],
   "id": "74d763df7d6e9a6d",
   "outputs": [
    {
     "data": {
      "text/plain": [
       "VBox(children=(HTML(value='<center> <img\\nsrc=https://huggingface.co/front/assets/huggingface_logo-noborder.sv…"
      ],
      "application/vnd.jupyter.widget-view+json": {
       "version_major": 2,
       "version_minor": 0,
       "model_id": "6938dce383d947d68fecf36c8e069b26"
      }
     },
     "metadata": {},
     "output_type": "display_data"
    }
   ],
   "execution_count": 21
  },
  {
   "metadata": {
    "ExecuteTime": {
     "end_time": "2025-04-09T09:28:05.918998Z",
     "start_time": "2025-04-09T09:27:55.181038Z"
    }
   },
   "cell_type": "code",
   "source": "tokenizer.push_to_hub(\"code-search-net-tokenizer\")",
   "id": "e71027449af96724",
   "outputs": [
    {
     "data": {
      "text/plain": [
       "CommitInfo(commit_url='https://huggingface.co/KinomotoMio/code-search-net-tokenizer/commit/6f79a1fcf3dec63cd7ebf4c836dc9b37c6582e38', commit_message='Upload tokenizer', commit_description='', oid='6f79a1fcf3dec63cd7ebf4c836dc9b37c6582e38', pr_url=None, repo_url=RepoUrl('https://hf-mirror.com/KinomotoMio/code-search-net-tokenizer', endpoint='https://hf-mirror.com', repo_type='model', repo_id='KinomotoMio/code-search-net-tokenizer'), pr_revision=None, pr_num=None)"
      ]
     },
     "execution_count": 22,
     "metadata": {},
     "output_type": "execute_result"
    }
   ],
   "execution_count": 22
  },
  {
   "metadata": {
    "ExecuteTime": {
     "end_time": "2025-04-09T09:29:05.930293Z",
     "start_time": "2025-04-09T09:29:00.403240Z"
    }
   },
   "cell_type": "code",
   "source": [
    "# 将下面的 \"huggingface-course\" 替换为你的用户名来加载你的 tokenizer\n",
    "tokenizer = AutoTokenizer.from_pretrained(\"KinomotoMio/code-search-net-tokenizer\")"
   ],
   "id": "2cd63c641ca6747a",
   "outputs": [
    {
     "data": {
      "text/plain": [
       "tokenizer_config.json:   0%|          | 0.00/471 [00:00<?, ?B/s]"
      ],
      "application/vnd.jupyter.widget-view+json": {
       "version_major": 2,
       "version_minor": 0,
       "model_id": "51feff30775d40118e8b10f8b9a2c55d"
      }
     },
     "metadata": {},
     "output_type": "display_data"
    },
    {
     "data": {
      "text/plain": [
       "vocab.json: 0.00B [00:00, ?B/s]"
      ],
      "application/vnd.jupyter.widget-view+json": {
       "version_major": 2,
       "version_minor": 0,
       "model_id": "6f937534036540d9b4eab8f7d4ac02d1"
      }
     },
     "metadata": {},
     "output_type": "display_data"
    },
    {
     "data": {
      "text/plain": [
       "merges.txt: 0.00B [00:00, ?B/s]"
      ],
      "application/vnd.jupyter.widget-view+json": {
       "version_major": 2,
       "version_minor": 0,
       "model_id": "0bb63601180841a79b702c3e70f647a4"
      }
     },
     "metadata": {},
     "output_type": "display_data"
    },
    {
     "data": {
      "text/plain": [
       "tokenizer.json: 0.00B [00:00, ?B/s]"
      ],
      "application/vnd.jupyter.widget-view+json": {
       "version_major": 2,
       "version_minor": 0,
       "model_id": "abaa787cfec0443c9d8360120a261164"
      }
     },
     "metadata": {},
     "output_type": "display_data"
    },
    {
     "data": {
      "text/plain": [
       "special_tokens_map.json:   0%|          | 0.00/99.0 [00:00<?, ?B/s]"
      ],
      "application/vnd.jupyter.widget-view+json": {
       "version_major": 2,
       "version_minor": 0,
       "model_id": "927aac154643411d873cb52ac2b39b51"
      }
     },
     "metadata": {},
     "output_type": "display_data"
    }
   ],
   "execution_count": 23
  },
  {
   "metadata": {},
   "cell_type": "code",
   "outputs": [],
   "execution_count": null,
   "source": "",
   "id": "46c419265f3601fb"
  }
 ],
 "metadata": {
  "kernelspec": {
   "display_name": "Python 3",
   "language": "python",
   "name": "python3"
  },
  "language_info": {
   "codemirror_mode": {
    "name": "ipython",
    "version": 2
   },
   "file_extension": ".py",
   "mimetype": "text/x-python",
   "name": "python",
   "nbconvert_exporter": "python",
   "pygments_lexer": "ipython2",
   "version": "2.7.6"
  }
 },
 "nbformat": 4,
 "nbformat_minor": 5
}
